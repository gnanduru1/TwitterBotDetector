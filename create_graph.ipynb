{
 "cells": [
  {
   "cell_type": "markdown",
   "id": "4d253451-f362-416e-80d1-380418192aa6",
   "metadata": {},
   "source": [
    "# Graph creation\n",
    "\n",
    "This notebook takes the output of the preprocessing notebook and creates the graph used for model training. This notebook uses existing features to create new features such as retweet ratio or hashtag count, and it converts the columns into a data format suitable for GNN model use. This notebook also tokenizes and creates word embeddings for each tweet.\n",
    "\n",
    "You may have to `pip install` some of the libraries below."
   ]
  },
  {
   "cell_type": "code",
   "execution_count": null,
   "id": "b2764e1e-84ae-4ffb-99e5-81aab54a21a0",
   "metadata": {},
   "outputs": [],
   "source": [
    "import pandas as pd\n",
    "import getpass\n",
    "from pandas import json_normalize\n",
    "import numpy as np\n",
    "import math\n",
    "from collections import Counter\n",
    "import ast\n",
    "from tqdm import tqdm\n",
    "\n",
    "import re\n",
    "import nltk\n",
    "from nltk.tokenize import TweetTokenizer\n",
    "from nltk.corpus import stopwords\n",
    "from nltk.stem import WordNetLemmatizer\n",
    "\n",
    "import gensim\n",
    "import gensim.downloader as api"
   ]
  },
  {
   "cell_type": "code",
   "execution_count": null,
   "id": "629a07e2-89d6-4f3c-bd39-94b02211a8e2",
   "metadata": {},
   "outputs": [],
   "source": [
    "user = getpass.getuser()\n",
    "# Change dirpath to location of TwiBot-22 dataset\n",
    "dirpath = f'/scratch/{user}/datasets/TwiBot22/'\n",
    "labels = pd.read_csv(f'{dirpath}/label.csv')\n",
    "users = pd.read_json(f'{dirpath}/user.json')"
   ]
  },
  {
   "cell_type": "code",
   "execution_count": 115,
   "id": "743b810d-5349-40d3-85d2-292b6c975938",
   "metadata": {
    "tags": []
   },
   "outputs": [
    {
     "name": "stderr",
     "output_type": "stream",
     "text": [
      "/tmp/ipykernel_298007/2652875637.py:4: DtypeWarning: Columns (0) have mixed types. Specify dtype option on import or set low_memory=False.\n",
      "  tweet_arr.append(pd.read_csv(f'/scratch/bae9wk/datasets/TwiBot22/processed_tweet{i}.csv'))\n",
      "/tmp/ipykernel_298007/2652875637.py:4: DtypeWarning: Columns (0,4) have mixed types. Specify dtype option on import or set low_memory=False.\n",
      "  tweet_arr.append(pd.read_csv(f'/scratch/bae9wk/datasets/TwiBot22/processed_tweet{i}.csv'))\n",
      "/tmp/ipykernel_298007/2652875637.py:4: DtypeWarning: Columns (0,4) have mixed types. Specify dtype option on import or set low_memory=False.\n",
      "  tweet_arr.append(pd.read_csv(f'/scratch/bae9wk/datasets/TwiBot22/processed_tweet{i}.csv'))\n",
      "/tmp/ipykernel_298007/2652875637.py:4: DtypeWarning: Columns (0,4) have mixed types. Specify dtype option on import or set low_memory=False.\n",
      "  tweet_arr.append(pd.read_csv(f'/scratch/bae9wk/datasets/TwiBot22/processed_tweet{i}.csv'))\n",
      "/tmp/ipykernel_298007/2652875637.py:4: DtypeWarning: Columns (0,4) have mixed types. Specify dtype option on import or set low_memory=False.\n",
      "  tweet_arr.append(pd.read_csv(f'/scratch/bae9wk/datasets/TwiBot22/processed_tweet{i}.csv'))\n",
      "/tmp/ipykernel_298007/2652875637.py:4: DtypeWarning: Columns (0,4) have mixed types. Specify dtype option on import or set low_memory=False.\n",
      "  tweet_arr.append(pd.read_csv(f'/scratch/bae9wk/datasets/TwiBot22/processed_tweet{i}.csv'))\n",
      "/tmp/ipykernel_298007/2652875637.py:4: DtypeWarning: Columns (0,4) have mixed types. Specify dtype option on import or set low_memory=False.\n",
      "  tweet_arr.append(pd.read_csv(f'/scratch/bae9wk/datasets/TwiBot22/processed_tweet{i}.csv'))\n",
      "/tmp/ipykernel_298007/2652875637.py:4: DtypeWarning: Columns (0,4) have mixed types. Specify dtype option on import or set low_memory=False.\n",
      "  tweet_arr.append(pd.read_csv(f'/scratch/bae9wk/datasets/TwiBot22/processed_tweet{i}.csv'))\n",
      "/tmp/ipykernel_298007/2652875637.py:4: DtypeWarning: Columns (0,2,4,11,13,15) have mixed types. Specify dtype option on import or set low_memory=False.\n",
      "  tweet_arr.append(pd.read_csv(f'/scratch/bae9wk/datasets/TwiBot22/processed_tweet{i}.csv'))\n"
     ]
    }
   ],
   "source": [
    "tweet_arr = []\n",
    "for i in range(9):\n",
    "    tweet_arr.append(pd.read_csv(f'{dirpath}/processed_tweet{i}.csv'))"
   ]
  },
  {
   "cell_type": "code",
   "execution_count": null,
   "id": "f44aaff3-0953-4267-811c-e38520b46c30",
   "metadata": {},
   "outputs": [],
   "source": [
    "tweets = pd.concat(tweet_arr)"
   ]
  },
  {
   "cell_type": "code",
   "execution_count": 117,
   "id": "cb5fcbf2-1021-482a-b3dd-4aa8f9031f5c",
   "metadata": {
    "tags": []
   },
   "outputs": [
    {
     "data": {
      "text/plain": [
       "2132482"
      ]
     },
     "execution_count": 117,
     "metadata": {},
     "output_type": "execute_result"
    }
   ],
   "source": [
    "len(tweets)"
   ]
  },
  {
   "cell_type": "code",
   "execution_count": 118,
   "id": "7675aa09-2c82-436b-92ae-226a0f97de86",
   "metadata": {
    "tags": []
   },
   "outputs": [
    {
     "data": {
      "text/html": [
       "<div>\n",
       "<style scoped>\n",
       "    .dataframe tbody tr th:only-of-type {\n",
       "        vertical-align: middle;\n",
       "    }\n",
       "\n",
       "    .dataframe tbody tr th {\n",
       "        vertical-align: top;\n",
       "    }\n",
       "\n",
       "    .dataframe thead th {\n",
       "        text-align: right;\n",
       "    }\n",
       "</style>\n",
       "<table border=\"1\" class=\"dataframe\">\n",
       "  <thead>\n",
       "    <tr style=\"text-align: right;\">\n",
       "      <th></th>\n",
       "      <th>Unnamed: 0</th>\n",
       "      <th>author_id</th>\n",
       "      <th>mentioned_ids</th>\n",
       "      <th>mention_count</th>\n",
       "      <th>hashtag_count</th>\n",
       "      <th>symbols_count</th>\n",
       "      <th>urls_count</th>\n",
       "      <th>retweet_count</th>\n",
       "      <th>reply_count</th>\n",
       "      <th>like_count</th>\n",
       "      <th>quote_count</th>\n",
       "      <th>text</th>\n",
       "      <th>in_reply_to_user_id</th>\n",
       "      <th>created_at</th>\n",
       "      <th>conversation_id</th>\n",
       "      <th>id</th>\n",
       "    </tr>\n",
       "  </thead>\n",
       "  <tbody>\n",
       "    <tr>\n",
       "      <th>0</th>\n",
       "      <td>107</td>\n",
       "      <td>9.992381e+17</td>\n",
       "      <td>[36054548]</td>\n",
       "      <td>1.0</td>\n",
       "      <td>0.0</td>\n",
       "      <td>0.0</td>\n",
       "      <td>0.0</td>\n",
       "      <td>0.0</td>\n",
       "      <td>NaN</td>\n",
       "      <td>0.0</td>\n",
       "      <td>NaN</td>\n",
       "      <td>@KalengaKamwendo About that 🤦‍♂️</td>\n",
       "      <td>NaN</td>\n",
       "      <td>NaN</td>\n",
       "      <td>NaN</td>\n",
       "      <td>NaN</td>\n",
       "    </tr>\n",
       "    <tr>\n",
       "      <th>1</th>\n",
       "      <td>249</td>\n",
       "      <td>2.838935e+09</td>\n",
       "      <td>[3123238004]</td>\n",
       "      <td>1.0</td>\n",
       "      <td>0.0</td>\n",
       "      <td>0.0</td>\n",
       "      <td>0.0</td>\n",
       "      <td>347.0</td>\n",
       "      <td>NaN</td>\n",
       "      <td>0.0</td>\n",
       "      <td>NaN</td>\n",
       "      <td>RT @afcstuff: Mikel Arteta on the late winner:...</td>\n",
       "      <td>NaN</td>\n",
       "      <td>NaN</td>\n",
       "      <td>NaN</td>\n",
       "      <td>NaN</td>\n",
       "    </tr>\n",
       "  </tbody>\n",
       "</table>\n",
       "</div>"
      ],
      "text/plain": [
       "  Unnamed: 0     author_id mentioned_ids  mention_count hashtag_count  \\\n",
       "0        107  9.992381e+17    [36054548]            1.0           0.0   \n",
       "1        249  2.838935e+09  [3123238004]            1.0           0.0   \n",
       "\n",
       "   symbols_count  urls_count  retweet_count  reply_count  like_count  \\\n",
       "0            0.0         0.0            0.0          NaN         0.0   \n",
       "1            0.0         0.0          347.0          NaN         0.0   \n",
       "\n",
       "   quote_count                                               text  \\\n",
       "0          NaN                   @KalengaKamwendo About that 🤦‍♂️   \n",
       "1          NaN  RT @afcstuff: Mikel Arteta on the late winner:...   \n",
       "\n",
       "   in_reply_to_user_id created_at  conversation_id   id  \n",
       "0                  NaN        NaN              NaN  NaN  \n",
       "1                  NaN        NaN              NaN  NaN  "
      ]
     },
     "execution_count": 118,
     "metadata": {},
     "output_type": "execute_result"
    }
   ],
   "source": [
    "tweets[:2]"
   ]
  },
  {
   "cell_type": "markdown",
   "id": "ade43136-4aaf-415d-85ca-96e1f1adefe0",
   "metadata": {},
   "source": [
    "# Feature creation"
   ]
  },
  {
   "cell_type": "code",
   "execution_count": 119,
   "id": "6c1339f7-ea3f-4c5a-9f37-edb3c6ea81f7",
   "metadata": {
    "tags": []
   },
   "outputs": [],
   "source": [
    "def add_relationship(df):\n",
    "    if (str(df[\"text\"])[:2] == \"RT\"):\n",
    "        return \"Retweet\"\n",
    "    elif (pd.notna(df[\"in_reply_to_user_id\"])):\n",
    "        return \"Reply\"\n",
    "    else:\n",
    "        return \"Post\""
   ]
  },
  {
   "cell_type": "code",
   "execution_count": 120,
   "id": "b91ccd34-58e3-430b-94f1-d8ce9bf45eff",
   "metadata": {
    "tags": []
   },
   "outputs": [],
   "source": [
    "tweets[\"relationship\"] = tweets.apply(lambda x : add_relationship(x), axis=1)"
   ]
  },
  {
   "cell_type": "code",
   "execution_count": 121,
   "id": "ffc801ce-be50-470a-a52c-03fec076e237",
   "metadata": {
    "tags": []
   },
   "outputs": [],
   "source": [
    "def target_user(df):\n",
    "    if (df[\"relationship\"] == \"Retweet\"):\n",
    "        return df[\"mentioned_ids\"]\n",
    "    elif (df[\"relationship\"] == \"Reply\"):\n",
    "        return df[\"in_reply_to_user_id\"]\n",
    "    else:\n",
    "        return np.nan"
   ]
  },
  {
   "cell_type": "code",
   "execution_count": 122,
   "id": "27edd8a1-337e-406a-9001-3af138862b05",
   "metadata": {
    "tags": []
   },
   "outputs": [],
   "source": [
    "tweets[\"target_user_id\"] = tweets.apply(lambda x : target_user(x), axis=1)"
   ]
  },
  {
   "cell_type": "code",
   "execution_count": 123,
   "id": "efeda9b6-d9cd-4c99-ba51-27178eca7079",
   "metadata": {},
   "outputs": [
    {
     "data": {
      "text/plain": [
       "0             NaN\n",
       "1    [3123238004]\n",
       "2     [343627165]\n",
       "3             NaN\n",
       "4             NaN\n",
       "Name: target_user_id, dtype: object"
      ]
     },
     "execution_count": 123,
     "metadata": {},
     "output_type": "execute_result"
    }
   ],
   "source": [
    "tweets[\"target_user_id\"][:5]"
   ]
  },
  {
   "cell_type": "code",
   "execution_count": 124,
   "id": "9c50449e-ebf3-497e-817f-5c3a8439e5f4",
   "metadata": {
    "tags": []
   },
   "outputs": [],
   "source": [
    "tweets = tweets.drop([\"in_reply_to_user_id\", \"mentioned_ids\"], axis=1)"
   ]
  },
  {
   "cell_type": "code",
   "execution_count": 125,
   "id": "ffde10a8-6fcd-4169-a97e-4c342faac631",
   "metadata": {
    "tags": []
   },
   "outputs": [],
   "source": [
    "tweets = tweets.rename({\"author_id\": \"source_user_id\", \"id\": \"tweet_id\"}, axis=1)"
   ]
  },
  {
   "cell_type": "code",
   "execution_count": 126,
   "id": "c25181ff-9c6e-4264-8898-d146f32c93d5",
   "metadata": {
    "tags": []
   },
   "outputs": [],
   "source": [
    "unique_ids = set(np.concatenate((tweets[\"source_user_id\"],tweets[tweets[\"target_user_id\"].notnull()][\"target_user_id\"])))"
   ]
  },
  {
   "cell_type": "code",
   "execution_count": 127,
   "id": "54c898ef-929c-40af-aa2b-982f801c0d64",
   "metadata": {
    "tags": []
   },
   "outputs": [
    {
     "data": {
      "text/plain": [
       "782578"
      ]
     },
     "execution_count": 127,
     "metadata": {},
     "output_type": "execute_result"
    }
   ],
   "source": [
    "len(unique_ids)"
   ]
  },
  {
   "cell_type": "code",
   "execution_count": 130,
   "id": "3750a7b8-f37b-4d3d-83c7-b21b352f8ff2",
   "metadata": {
    "tags": []
   },
   "outputs": [
    {
     "data": {
      "text/html": [
       "<div>\n",
       "<style scoped>\n",
       "    .dataframe tbody tr th:only-of-type {\n",
       "        vertical-align: middle;\n",
       "    }\n",
       "\n",
       "    .dataframe tbody tr th {\n",
       "        vertical-align: top;\n",
       "    }\n",
       "\n",
       "    .dataframe thead th {\n",
       "        text-align: right;\n",
       "    }\n",
       "</style>\n",
       "<table border=\"1\" class=\"dataframe\">\n",
       "  <thead>\n",
       "    <tr style=\"text-align: right;\">\n",
       "      <th></th>\n",
       "      <th>created_at</th>\n",
       "      <th>description</th>\n",
       "      <th>entities</th>\n",
       "      <th>id</th>\n",
       "      <th>location</th>\n",
       "      <th>name</th>\n",
       "      <th>pinned_tweet_id</th>\n",
       "      <th>profile_image_url</th>\n",
       "      <th>protected</th>\n",
       "      <th>public_metrics</th>\n",
       "      <th>url</th>\n",
       "      <th>username</th>\n",
       "      <th>verified</th>\n",
       "      <th>withheld</th>\n",
       "    </tr>\n",
       "  </thead>\n",
       "  <tbody>\n",
       "    <tr>\n",
       "      <th>0</th>\n",
       "      <td>2020-01-16 02:02:55+00:00</td>\n",
       "      <td>Theoretical Computer Scientist. See also https...</td>\n",
       "      <td>{'url': {'urls': [{'start': 0, 'end': 23, 'url...</td>\n",
       "      <td>u1217628182611927040</td>\n",
       "      <td>Cambridge, MA</td>\n",
       "      <td>Boaz Barak</td>\n",
       "      <td>NaN</td>\n",
       "      <td>https://pbs.twimg.com/profile_images/125226236...</td>\n",
       "      <td>False</td>\n",
       "      <td>{'followers_count': 7316, 'following_count': 2...</td>\n",
       "      <td>https://t.co/BoMip9FF17</td>\n",
       "      <td>boazbaraktcs</td>\n",
       "      <td>False</td>\n",
       "      <td>None</td>\n",
       "    </tr>\n",
       "  </tbody>\n",
       "</table>\n",
       "</div>"
      ],
      "text/plain": [
       "                 created_at  \\\n",
       "0 2020-01-16 02:02:55+00:00   \n",
       "\n",
       "                                         description  \\\n",
       "0  Theoretical Computer Scientist. See also https...   \n",
       "\n",
       "                                            entities                    id  \\\n",
       "0  {'url': {'urls': [{'start': 0, 'end': 23, 'url...  u1217628182611927040   \n",
       "\n",
       "        location        name  pinned_tweet_id  \\\n",
       "0  Cambridge, MA  Boaz Barak              NaN   \n",
       "\n",
       "                                   profile_image_url  protected  \\\n",
       "0  https://pbs.twimg.com/profile_images/125226236...      False   \n",
       "\n",
       "                                      public_metrics                      url  \\\n",
       "0  {'followers_count': 7316, 'following_count': 2...  https://t.co/BoMip9FF17   \n",
       "\n",
       "       username  verified withheld  \n",
       "0  boazbaraktcs     False     None  "
      ]
     },
     "execution_count": 130,
     "metadata": {},
     "output_type": "execute_result"
    }
   ],
   "source": [
    "users[:1]"
   ]
  },
  {
   "cell_type": "code",
   "execution_count": 131,
   "id": "94a6c6b1-07c0-4c51-993c-37d6395f168c",
   "metadata": {
    "tags": []
   },
   "outputs": [],
   "source": [
    "users = pd.concat([users, json_normalize(users[\"entities\"])], axis = 1)\n",
    "users = pd.concat([users, json_normalize(users[\"public_metrics\"])], axis = 1)"
   ]
  },
  {
   "cell_type": "code",
   "execution_count": 132,
   "id": "d03b031c-0fc0-44ce-a4d9-dbf282c78b50",
   "metadata": {
    "tags": []
   },
   "outputs": [
    {
     "data": {
      "text/html": [
       "<div>\n",
       "<style scoped>\n",
       "    .dataframe tbody tr th:only-of-type {\n",
       "        vertical-align: middle;\n",
       "    }\n",
       "\n",
       "    .dataframe tbody tr th {\n",
       "        vertical-align: top;\n",
       "    }\n",
       "\n",
       "    .dataframe thead th {\n",
       "        text-align: right;\n",
       "    }\n",
       "</style>\n",
       "<table border=\"1\" class=\"dataframe\">\n",
       "  <thead>\n",
       "    <tr style=\"text-align: right;\">\n",
       "      <th></th>\n",
       "      <th>created_at</th>\n",
       "      <th>description</th>\n",
       "      <th>entities</th>\n",
       "      <th>id</th>\n",
       "      <th>location</th>\n",
       "      <th>name</th>\n",
       "      <th>pinned_tweet_id</th>\n",
       "      <th>profile_image_url</th>\n",
       "      <th>protected</th>\n",
       "      <th>public_metrics</th>\n",
       "      <th>...</th>\n",
       "      <th>withheld</th>\n",
       "      <th>url.urls</th>\n",
       "      <th>description.urls</th>\n",
       "      <th>description.mentions</th>\n",
       "      <th>description.hashtags</th>\n",
       "      <th>description.cashtags</th>\n",
       "      <th>followers_count</th>\n",
       "      <th>following_count</th>\n",
       "      <th>tweet_count</th>\n",
       "      <th>listed_count</th>\n",
       "    </tr>\n",
       "  </thead>\n",
       "  <tbody>\n",
       "    <tr>\n",
       "      <th>0</th>\n",
       "      <td>2020-01-16 02:02:55+00:00</td>\n",
       "      <td>Theoretical Computer Scientist. See also https...</td>\n",
       "      <td>{'url': {'urls': [{'start': 0, 'end': 23, 'url...</td>\n",
       "      <td>u1217628182611927040</td>\n",
       "      <td>Cambridge, MA</td>\n",
       "      <td>Boaz Barak</td>\n",
       "      <td>NaN</td>\n",
       "      <td>https://pbs.twimg.com/profile_images/125226236...</td>\n",
       "      <td>False</td>\n",
       "      <td>{'followers_count': 7316, 'following_count': 2...</td>\n",
       "      <td>...</td>\n",
       "      <td>None</td>\n",
       "      <td>[{'start': 0, 'end': 23, 'url': 'https://t.co/...</td>\n",
       "      <td>[{'start': 41, 'end': 64, 'url': 'https://t.co...</td>\n",
       "      <td>NaN</td>\n",
       "      <td>NaN</td>\n",
       "      <td>NaN</td>\n",
       "      <td>7316</td>\n",
       "      <td>215</td>\n",
       "      <td>3098</td>\n",
       "      <td>69</td>\n",
       "    </tr>\n",
       "  </tbody>\n",
       "</table>\n",
       "<p>1 rows × 23 columns</p>\n",
       "</div>"
      ],
      "text/plain": [
       "                 created_at  \\\n",
       "0 2020-01-16 02:02:55+00:00   \n",
       "\n",
       "                                         description  \\\n",
       "0  Theoretical Computer Scientist. See also https...   \n",
       "\n",
       "                                            entities                    id  \\\n",
       "0  {'url': {'urls': [{'start': 0, 'end': 23, 'url...  u1217628182611927040   \n",
       "\n",
       "        location        name  pinned_tweet_id  \\\n",
       "0  Cambridge, MA  Boaz Barak              NaN   \n",
       "\n",
       "                                   profile_image_url  protected  \\\n",
       "0  https://pbs.twimg.com/profile_images/125226236...      False   \n",
       "\n",
       "                                      public_metrics  ... withheld  \\\n",
       "0  {'followers_count': 7316, 'following_count': 2...  ...     None   \n",
       "\n",
       "                                            url.urls  \\\n",
       "0  [{'start': 0, 'end': 23, 'url': 'https://t.co/...   \n",
       "\n",
       "                                    description.urls description.mentions  \\\n",
       "0  [{'start': 41, 'end': 64, 'url': 'https://t.co...                  NaN   \n",
       "\n",
       "  description.hashtags description.cashtags followers_count following_count  \\\n",
       "0                  NaN                  NaN            7316             215   \n",
       "\n",
       "  tweet_count  listed_count  \n",
       "0        3098            69  \n",
       "\n",
       "[1 rows x 23 columns]"
      ]
     },
     "execution_count": 132,
     "metadata": {},
     "output_type": "execute_result"
    }
   ],
   "source": [
    "users[:1]"
   ]
  },
  {
   "cell_type": "code",
   "execution_count": 133,
   "id": "03aecda7-2a3d-4d3f-b21e-2cd6ed6f3242",
   "metadata": {
    "tags": []
   },
   "outputs": [],
   "source": [
    "users[\"url.urls\"] = users[\"url.urls\"].fillna(0) \n",
    "users[\"url.urls\"] = users[\"url.urls\"].apply(lambda x : len(x) if x else 0)\n",
    "users[\"description.urls\"] = users[\"description.urls\"].fillna(0) \n",
    "users[\"description.urls\"] = users[\"description.urls\"].apply(lambda x : len(x) if x else 0)\n",
    "users[\"description.mentions\"] = users[\"description.mentions\"].fillna(0) \n",
    "users[\"description.mentions\"] = users[\"description.mentions\"].apply(lambda x : len(x) if x else 0)\n",
    "users[\"description.hashtags\"] = users[\"description.hashtags\"].fillna(0) \n",
    "users[\"description.hashtags\"] = users[\"description.hashtags\"].apply(lambda x : len(x) if x else 0)\n",
    "users[\"description.cashtags\"] = users[\"description.cashtags\"].fillna(0) \n",
    "users[\"description.cashtags\"] = users[\"description.cashtags\"].apply(lambda x : len(x) if x else 0)\n",
    "users = users.drop(['entities', 'public_metrics'], axis = 1)\n",
    "users[\"source_user_id\"] = users[\"id\"].apply(lambda x : int(x.replace(\"u\", \"\")))"
   ]
  },
  {
   "cell_type": "code",
   "execution_count": 134,
   "id": "3d23e7db-95b6-4b83-bafc-6818b00e5b0a",
   "metadata": {
    "tags": []
   },
   "outputs": [],
   "source": [
    "def convert_timestamps(ts):\n",
    "    \n",
    "    try:\n",
    "        return pd.to_datetime(ts, exact = False, errors = 'raise')\n",
    "    except ValueError:\n",
    "        try:\n",
    "            float_ts = float(ts)\n",
    "        except Exception as e:\n",
    "            print(ts)\n",
    "            print(e)\n",
    "            return None\n",
    "        else:\n",
    "            return pd.to_datetime(float_ts / 1e9, unit = 's', utc = True)"
   ]
  },
  {
   "cell_type": "code",
   "execution_count": 135,
   "id": "393b4d8a-8797-4827-95c1-f38139b23c86",
   "metadata": {
    "tags": []
   },
   "outputs": [],
   "source": [
    "users['created_at_ts'] = users.apply(lambda x : convert_timestamps(x['created_at']), axis=1)"
   ]
  },
  {
   "cell_type": "code",
   "execution_count": 136,
   "id": "0ee7c15b-bde7-403c-8d49-937c6893a443",
   "metadata": {
    "tags": []
   },
   "outputs": [
    {
     "data": {
      "text/plain": [
       "datetime64[ns, UTC]"
      ]
     },
     "execution_count": 136,
     "metadata": {},
     "output_type": "execute_result"
    }
   ],
   "source": [
    "users['created_at_ts'].dtype"
   ]
  },
  {
   "cell_type": "code",
   "execution_count": 137,
   "id": "025654bf-b955-4537-8b44-70bd704adcec",
   "metadata": {
    "tags": []
   },
   "outputs": [],
   "source": [
    "users['username_length'] = users['username'].apply(len)\n",
    "users['name_length'] = users['name'].apply(len)\n",
    "users['description_length'] = users['description'].apply(len)"
   ]
  },
  {
   "cell_type": "code",
   "execution_count": 138,
   "id": "2bf8d491-8e87-40f0-9f5f-262aa572f629",
   "metadata": {
    "tags": []
   },
   "outputs": [],
   "source": [
    "users['num_digits_username'] = users['username'].apply(lambda x: sum(c.isdigit() for c in x))"
   ]
  },
  {
   "cell_type": "code",
   "execution_count": 139,
   "id": "8dd45c2d-3bfa-4df4-a704-077205a43de7",
   "metadata": {
    "tags": []
   },
   "outputs": [],
   "source": [
    "def entropy(s):\n",
    "    probabilities = [n_x/len(s) for x, n_x in Counter(s).items()]\n",
    "    e = -sum([p * math.log(p) / math.log(2.0) for p in probabilities])\n",
    "    return e"
   ]
  },
  {
   "cell_type": "code",
   "execution_count": 140,
   "id": "1831e333-bdf1-4c07-9494-b37685b8573e",
   "metadata": {
    "tags": []
   },
   "outputs": [],
   "source": [
    "users['username_entropy'] = users['username'].apply(entropy)\n",
    "users['description_entropy'] = users['description'].apply(entropy)"
   ]
  },
  {
   "cell_type": "code",
   "execution_count": 141,
   "id": "2d4eaa13-0715-45f3-b4f9-1430c6df04bd",
   "metadata": {
    "tags": []
   },
   "outputs": [],
   "source": [
    "def string_similarity(s1, s2):\n",
    "    common_chars = sum(1 for char1, char2 in zip(s1, s2) if char1 == char2)\n",
    "    combined_length = len(s1) + len(s2)\n",
    "    similarity = (2 * common_chars) / combined_length if combined_length > 0 else 0\n",
    "    return similarity"
   ]
  },
  {
   "cell_type": "code",
   "execution_count": 142,
   "id": "295db424-f3be-454f-85bc-21f49051e9cb",
   "metadata": {
    "tags": []
   },
   "outputs": [],
   "source": [
    "users['names_similarity'] = users.apply(lambda x: string_similarity(x['name'], x['username']), axis = 1)"
   ]
  },
  {
   "cell_type": "code",
   "execution_count": 143,
   "id": "d5a3b001-fc04-41af-bd29-c14baafc3ee5",
   "metadata": {
    "tags": []
   },
   "outputs": [],
   "source": [
    "users['names_ratio'] = users.apply(lambda x: len(x['username']) / len(x['name']) if len(x['name']) > 0 else 0, axis = 1)"
   ]
  },
  {
   "cell_type": "code",
   "execution_count": 144,
   "id": "a0bcdccd-564b-4c59-9c41-bd00c30c7329",
   "metadata": {
    "tags": []
   },
   "outputs": [],
   "source": [
    "users['reputation'] = users['following_count'] / (users['followers_count'] + 1e-9)"
   ]
  },
  {
   "cell_type": "code",
   "execution_count": 145,
   "id": "bdbcedc8-e3ff-4905-9ebc-6f3a50fb27d2",
   "metadata": {
    "tags": []
   },
   "outputs": [],
   "source": [
    "today = pd.Timestamp.now().tz_localize('UTC')\n",
    "users['account_age'] = (today - users['created_at_ts']).dt.days / users['tweet_count']"
   ]
  },
  {
   "cell_type": "code",
   "execution_count": 146,
   "id": "cdf2ef3a-d303-4d22-9c26-61b28fe58233",
   "metadata": {
    "tags": []
   },
   "outputs": [],
   "source": [
    "tweets_2 = tweets.copy()"
   ]
  },
  {
   "cell_type": "code",
   "execution_count": 147,
   "id": "9c4cb1dd-c3b5-425c-af1a-6f5db377ebdf",
   "metadata": {
    "tags": []
   },
   "outputs": [],
   "source": [
    "problematic_rows = []\n",
    "\n",
    "for ind, row in tweets_2.iterrows():\n",
    "    try:\n",
    "        _ = int(row['source_user_id'])\n",
    "    except ValueError:\n",
    "        problematic_rows.append(ind)"
   ]
  },
  {
   "cell_type": "code",
   "execution_count": 149,
   "id": "ca181aca-8adc-4f31-b558-df6f18f0a656",
   "metadata": {
    "tags": []
   },
   "outputs": [],
   "source": [
    "graph = tweets_2.drop(problematic_rows).reset_index(drop=True)"
   ]
  },
  {
   "cell_type": "code",
   "execution_count": 150,
   "id": "3e7c4c31-170e-42dd-99d9-76ea18f78ade",
   "metadata": {
    "tags": []
   },
   "outputs": [
    {
     "name": "stderr",
     "output_type": "stream",
     "text": [
      "IOStream.flush timed out\n"
     ]
    }
   ],
   "source": [
    "graph['created_at_ts'] = graph.apply(lambda x : convert_timestamps(x['created_at']), axis=1)"
   ]
  },
  {
   "cell_type": "code",
   "execution_count": 151,
   "id": "ad0fbe06-69ee-4f1f-97db-c437d837263c",
   "metadata": {
    "tags": []
   },
   "outputs": [],
   "source": [
    "graph['source_user_id'] = graph['source_user_id'].apply(lambda x: int(x))"
   ]
  },
  {
   "cell_type": "code",
   "execution_count": 152,
   "id": "845de0b6-38f8-4d9e-a8db-04d20d29f954",
   "metadata": {
    "tags": []
   },
   "outputs": [
    {
     "data": {
      "text/html": [
       "<div>\n",
       "<style scoped>\n",
       "    .dataframe tbody tr th:only-of-type {\n",
       "        vertical-align: middle;\n",
       "    }\n",
       "\n",
       "    .dataframe tbody tr th {\n",
       "        vertical-align: top;\n",
       "    }\n",
       "\n",
       "    .dataframe thead th {\n",
       "        text-align: right;\n",
       "    }\n",
       "</style>\n",
       "<table border=\"1\" class=\"dataframe\">\n",
       "  <thead>\n",
       "    <tr style=\"text-align: right;\">\n",
       "      <th></th>\n",
       "      <th>Unnamed: 0</th>\n",
       "      <th>source_user_id</th>\n",
       "      <th>mention_count</th>\n",
       "      <th>hashtag_count</th>\n",
       "      <th>symbols_count</th>\n",
       "      <th>urls_count</th>\n",
       "      <th>retweet_count</th>\n",
       "      <th>reply_count</th>\n",
       "      <th>like_count</th>\n",
       "      <th>quote_count</th>\n",
       "      <th>text</th>\n",
       "      <th>created_at</th>\n",
       "      <th>conversation_id</th>\n",
       "      <th>tweet_id</th>\n",
       "      <th>relationship</th>\n",
       "      <th>target_user_id</th>\n",
       "      <th>created_at_ts</th>\n",
       "    </tr>\n",
       "  </thead>\n",
       "  <tbody>\n",
       "    <tr>\n",
       "      <th>0</th>\n",
       "      <td>107</td>\n",
       "      <td>999238148075991040</td>\n",
       "      <td>1.0</td>\n",
       "      <td>0.0</td>\n",
       "      <td>0.0</td>\n",
       "      <td>0.0</td>\n",
       "      <td>0.0</td>\n",
       "      <td>NaN</td>\n",
       "      <td>0.0</td>\n",
       "      <td>NaN</td>\n",
       "      <td>@KalengaKamwendo About that 🤦‍♂️</td>\n",
       "      <td>NaN</td>\n",
       "      <td>NaN</td>\n",
       "      <td>NaN</td>\n",
       "      <td>Post</td>\n",
       "      <td>NaN</td>\n",
       "      <td>NaT</td>\n",
       "    </tr>\n",
       "    <tr>\n",
       "      <th>1</th>\n",
       "      <td>249</td>\n",
       "      <td>2838934563</td>\n",
       "      <td>1.0</td>\n",
       "      <td>0.0</td>\n",
       "      <td>0.0</td>\n",
       "      <td>0.0</td>\n",
       "      <td>347.0</td>\n",
       "      <td>NaN</td>\n",
       "      <td>0.0</td>\n",
       "      <td>NaN</td>\n",
       "      <td>RT @afcstuff: Mikel Arteta on the late winner:...</td>\n",
       "      <td>NaN</td>\n",
       "      <td>NaN</td>\n",
       "      <td>NaN</td>\n",
       "      <td>Retweet</td>\n",
       "      <td>[3123238004]</td>\n",
       "      <td>NaT</td>\n",
       "    </tr>\n",
       "  </tbody>\n",
       "</table>\n",
       "</div>"
      ],
      "text/plain": [
       "  Unnamed: 0      source_user_id  mention_count hashtag_count  symbols_count  \\\n",
       "0        107  999238148075991040            1.0           0.0            0.0   \n",
       "1        249          2838934563            1.0           0.0            0.0   \n",
       "\n",
       "   urls_count  retweet_count  reply_count  like_count  quote_count  \\\n",
       "0         0.0            0.0          NaN         0.0          NaN   \n",
       "1         0.0          347.0          NaN         0.0          NaN   \n",
       "\n",
       "                                                text created_at  \\\n",
       "0                   @KalengaKamwendo About that 🤦‍♂️        NaN   \n",
       "1  RT @afcstuff: Mikel Arteta on the late winner:...        NaN   \n",
       "\n",
       "   conversation_id tweet_id relationship target_user_id created_at_ts  \n",
       "0              NaN      NaN         Post            NaN           NaT  \n",
       "1              NaN      NaN      Retweet   [3123238004]           NaT  "
      ]
     },
     "execution_count": 152,
     "metadata": {},
     "output_type": "execute_result"
    }
   ],
   "source": [
    "graph[:2]"
   ]
  },
  {
   "cell_type": "code",
   "execution_count": 153,
   "id": "d8527ed1-9629-4c60-9949-3ef8d70b5b71",
   "metadata": {
    "tags": []
   },
   "outputs": [],
   "source": [
    "graph['retweet_count'] = graph['retweet_count'].fillna(0)\n",
    "graph['reply_count'] = graph['reply_count'].fillna(0)\n",
    "graph['like_count'] = graph['like_count'].fillna(0)\n",
    "graph['quote_count'] = graph['quote_count'].fillna(0)\n"
   ]
  },
  {
   "cell_type": "code",
   "execution_count": 154,
   "id": "ea0a2a35-a617-4a86-9637-5544c87e4ce8",
   "metadata": {
    "tags": []
   },
   "outputs": [],
   "source": [
    "user_ids = set(np.concatenate((graph['source_user_id'] , graph[graph['target_user_id'].notnull()]['target_user_id'])))\n",
    "user = users[users[\"source_user_id\"].isin(user_ids)]"
   ]
  },
  {
   "cell_type": "code",
   "execution_count": 155,
   "id": "73c13808-77e6-46a0-bfa6-e3b533fcdb70",
   "metadata": {
    "tags": []
   },
   "outputs": [],
   "source": [
    "labels[\"source_user_id\"] = labels[\"id\"].apply(lambda x : int(x.replace(\"u\", \"\")))"
   ]
  },
  {
   "cell_type": "code",
   "execution_count": 156,
   "id": "165cbd9d-5d99-4884-a00c-fd2bff0f712d",
   "metadata": {
    "tags": []
   },
   "outputs": [],
   "source": [
    "user = user.merge(labels, left_on=\"source_user_id\", right_on=\"source_user_id\", how = \"inner\")"
   ]
  },
  {
   "cell_type": "code",
   "execution_count": 157,
   "id": "961554e7-52ec-410d-aae5-029a5a25372b",
   "metadata": {
    "tags": []
   },
   "outputs": [],
   "source": [
    "#tweets = tweets.drop([\"pinned_tweet_id\", \"created_at\", \"withheld\"], axis=1)"
   ]
  },
  {
   "cell_type": "code",
   "execution_count": null,
   "id": "3a7431e3-7bfd-4894-86a3-3a36b1463321",
   "metadata": {
    "tags": []
   },
   "outputs": [],
   "source": []
  },
  {
   "cell_type": "code",
   "execution_count": 158,
   "id": "bfc2d583-db13-4357-a0e8-46a6d755f090",
   "metadata": {
    "tags": []
   },
   "outputs": [],
   "source": [
    "def retweet_ratio(s):\n",
    "    if 'Retweet' in s.value_counts():\n",
    "        return (s.value_counts()['Retweet'] + 1) / (len(s) + 3)\n",
    "    else:\n",
    "        return 1/(len(s) + 3)\n",
    "retweet_ratios = pd.DataFrame(graph.groupby('source_user_id')['relationship'].agg(retweet_ratio))\n",
    "\n",
    "retweet_ratios['source_user_id'] = retweet_ratios.index\n",
    "\n",
    "retweet_ratios.reset_index(drop = True, inplace = True)\n",
    "\n",
    "retweet_ratios.columns = ['retweet_ratio', 'source_user_id']"
   ]
  },
  {
   "cell_type": "code",
   "execution_count": 159,
   "id": "48fcbc5e-e087-4e73-a445-091891f7c65b",
   "metadata": {
    "tags": []
   },
   "outputs": [],
   "source": [
    "users['verified'] = users['verified'].apply(lambda x: bool(x))"
   ]
  },
  {
   "cell_type": "code",
   "execution_count": 160,
   "id": "4d246e12-d71d-4caa-9a14-038735089a34",
   "metadata": {
    "tags": []
   },
   "outputs": [],
   "source": [
    "user = pd.merge(user, retweet_ratios, on = 'source_user_id', how = 'left')\n",
    "\n",
    "user['retweet_ratio'] = user.groupby('label')['retweet_ratio'].transform(lambda x: x.fillna(x.mean()))"
   ]
  },
  {
   "cell_type": "code",
   "execution_count": 161,
   "id": "3cbd8964-32d5-4a7e-8baa-439e206a3426",
   "metadata": {
    "tags": []
   },
   "outputs": [
    {
     "data": {
      "text/plain": [
       "0"
      ]
     },
     "execution_count": 161,
     "metadata": {},
     "output_type": "execute_result"
    }
   ],
   "source": [
    "user['retweet_ratio'].isnull().sum()"
   ]
  },
  {
   "cell_type": "code",
   "execution_count": 162,
   "id": "7be90f3d-fd8d-4f93-84d4-d4fc2ace1f1b",
   "metadata": {
    "tags": []
   },
   "outputs": [],
   "source": [
    "url_count = pd.DataFrame(graph.groupby('source_user_id')['urls_count'].sum())\n",
    "url_count['source_user_id'] = url_count.index\n",
    "url_count.reset_index(drop = True, inplace = True)\n",
    "url_count.columns = ['url_count_tweets', 'source_user_id']\n",
    "user = pd.merge(user, url_count, on = 'source_user_id', how = 'left')\n",
    "\n"
   ]
  },
  {
   "cell_type": "code",
   "execution_count": 163,
   "id": "f06131c4-5897-40e6-a5f6-86d71870cf6e",
   "metadata": {
    "tags": []
   },
   "outputs": [],
   "source": [
    "user['url_ratio'] = (user['url.urls'] + user[\"url_count_tweets\"]) / user['tweet_count']"
   ]
  },
  {
   "cell_type": "code",
   "execution_count": 164,
   "id": "9e21b914-b6dc-4eca-a7b1-4a9a2b08630b",
   "metadata": {
    "tags": []
   },
   "outputs": [
    {
     "data": {
      "text/plain": [
       "0"
      ]
     },
     "execution_count": 164,
     "metadata": {},
     "output_type": "execute_result"
    }
   ],
   "source": [
    "user['url_ratio'] = user.groupby('label')['url_ratio'].transform(lambda x: x.fillna(x.mean()))\n",
    "\n",
    "user['url_ratio'].isnull().sum()"
   ]
  },
  {
   "cell_type": "code",
   "execution_count": 165,
   "id": "f713317e-11ff-4fef-bdc3-ccdc5a03a639",
   "metadata": {
    "tags": []
   },
   "outputs": [
    {
     "data": {
      "text/plain": [
       "0"
      ]
     },
     "execution_count": 165,
     "metadata": {},
     "output_type": "execute_result"
    }
   ],
   "source": [
    "url_max = pd.DataFrame(graph.groupby('source_user_id')['urls_count'].max())\n",
    "\n",
    "url_max['source_user_id'] = url_max.index\n",
    "url_max.reset_index(drop = True, inplace = True)\n",
    "url_max.columns = ['url_max_tweets', 'source_user_id']\n",
    "user = pd.merge(user, url_max, on = 'source_user_id', how = 'left')\n",
    "\n",
    "user['url_max_tweets'] = user.groupby('label')['url_max_tweets'].transform(lambda x: x.fillna(x.mean())) \n",
    "\n",
    "user['url_max_tweets'].isnull().sum()"
   ]
  },
  {
   "cell_type": "code",
   "execution_count": 166,
   "id": "292f9e7d-a004-4b65-9984-37bc1bde8075",
   "metadata": {
    "tags": []
   },
   "outputs": [
    {
     "data": {
      "text/plain": [
       "0"
      ]
     },
     "execution_count": 166,
     "metadata": {},
     "output_type": "execute_result"
    }
   ],
   "source": [
    "def tweets_standard_deviation(s):\n",
    "    if len(s) < 2:\n",
    "        return np.nan\n",
    "    time_diffs = s.diff().dt.total_seconds()[1:]\n",
    "    mean_time_diff = time_diffs.mean()\n",
    "    \n",
    "    sd = (time_diffs - mean_time_diff) ** 2\n",
    "    \n",
    "    mean = np.sqrt(sd.mean()) / 86400\n",
    "    \n",
    "    return mean\n",
    "\n",
    "\n",
    "tweet_time_sd = pd.DataFrame(graph.groupby('source_user_id')['created_at_ts'].agg(tweets_standard_deviation))\n",
    "tweet_time_sd['source_user_id'] = tweet_time_sd.index\n",
    "tweet_time_sd.reset_index(drop = True, inplace = True)\n",
    "tweet_time_sd.columns = ['time_interval_sd_day', 'source_user_id']\n",
    "\n",
    "user = pd.merge(user, tweet_time_sd, on = 'source_user_id', how = 'left')\n",
    "\n",
    "user['time_interval_sd_day'] = user.groupby('label')['time_interval_sd_day'].transform(lambda x: x.fillna(x.mean())) \n",
    "\n",
    "user['time_interval_sd_day'].isnull().sum()"
   ]
  },
  {
   "cell_type": "code",
   "execution_count": 167,
   "id": "d56cfe5a-e588-4615-a956-46499f13504f",
   "metadata": {
    "tags": []
   },
   "outputs": [
    {
     "data": {
      "text/plain": [
       "Index(['Unnamed: 0', 'source_user_id', 'mention_count', 'hashtag_count',\n",
       "       'symbols_count', 'urls_count', 'retweet_count', 'reply_count',\n",
       "       'like_count', 'quote_count', 'text', 'created_at', 'conversation_id',\n",
       "       'tweet_id', 'relationship', 'target_user_id'],\n",
       "      dtype='object')"
      ]
     },
     "execution_count": 167,
     "metadata": {},
     "output_type": "execute_result"
    }
   ],
   "source": [
    "tweets_2.columns"
   ]
  },
  {
   "cell_type": "code",
   "execution_count": 168,
   "id": "9a3bf14a-a7f3-4197-8a40-0fa684d6aed1",
   "metadata": {
    "tags": []
   },
   "outputs": [
    {
     "data": {
      "text/plain": [
       "0"
      ]
     },
     "execution_count": 168,
     "metadata": {},
     "output_type": "execute_result"
    }
   ],
   "source": [
    "mention_count = pd.DataFrame(graph.groupby('source_user_id')['mention_count'].sum())\n",
    "\n",
    "mention_count['source_user_id'] = mention_count.index\n",
    "mention_count.reset_index(drop = True, inplace = True)\n",
    "mention_count.columns = ['mention_count_tweets', 'source_user_id']\n",
    "user = pd.merge(user, mention_count, on = 'source_user_id', how = 'left')\n",
    "\n",
    "user['mention_count_tweets'] = user.groupby('label')['mention_count_tweets'].transform(lambda x: x.fillna(x.mean())) \n",
    "\n",
    "user['url_max_tweets'].isnull().sum()"
   ]
  },
  {
   "cell_type": "code",
   "execution_count": 169,
   "id": "f194b1c0-a258-4190-b0de-169d8770c92a",
   "metadata": {
    "tags": []
   },
   "outputs": [
    {
     "data": {
      "text/plain": [
       "0"
      ]
     },
     "execution_count": 169,
     "metadata": {},
     "output_type": "execute_result"
    }
   ],
   "source": [
    "mention_max = pd.DataFrame(graph.groupby('source_user_id')['mention_count'].max())\n",
    "\n",
    "mention_max['source_user_id'] = mention_max.index\n",
    "mention_max.reset_index(drop = True, inplace = True)\n",
    "mention_max.columns = ['mention_max_tweets', 'source_user_id']\n",
    "user = pd.merge(user, mention_max, on = 'source_user_id', how = 'left')\n",
    "\n",
    "user['mention_max_tweets'] = user.groupby('label')['mention_max_tweets'].transform(lambda x: x.fillna(x.mean())) \n",
    "\n",
    "user['mention_max_tweets'].isnull().sum()"
   ]
  },
  {
   "cell_type": "code",
   "execution_count": 174,
   "id": "00e1e6e2-3118-4d1d-897e-054d34d1c5fe",
   "metadata": {
    "tags": []
   },
   "outputs": [],
   "source": [
    "graph['hashtag_count'] = graph['hashtag_count'].apply(lambda x: int(float((str(x).replace(\"t\", \"\")))))"
   ]
  },
  {
   "cell_type": "code",
   "execution_count": 175,
   "id": "58c005c4-f252-45b9-814f-db536147b0a9",
   "metadata": {
    "tags": []
   },
   "outputs": [
    {
     "data": {
      "text/plain": [
       "0"
      ]
     },
     "execution_count": 175,
     "metadata": {},
     "output_type": "execute_result"
    }
   ],
   "source": [
    "hashtag_count = pd.DataFrame(graph.groupby('source_user_id')['hashtag_count'].sum())\n",
    "\n",
    "hashtag_count['source_user_id'] = hashtag_count.index\n",
    "hashtag_count.reset_index(drop = True, inplace = True)\n",
    "hashtag_count.columns = ['hashtag_count_tweets', 'source_user_id']\n",
    "user = pd.merge(user, hashtag_count, on = 'source_user_id', how = 'left')\n",
    "\n",
    "user['hashtag_count_tweets'] = user.groupby('label')['hashtag_count_tweets'].transform(lambda x: x.fillna(x.mean())) \n",
    "\n",
    "user['hashtag_count_tweets'].isnull().sum()"
   ]
  },
  {
   "cell_type": "code",
   "execution_count": 176,
   "id": "72326311-efe0-4988-b45c-109cea58be27",
   "metadata": {
    "tags": []
   },
   "outputs": [
    {
     "data": {
      "text/plain": [
       "0"
      ]
     },
     "execution_count": 176,
     "metadata": {},
     "output_type": "execute_result"
    }
   ],
   "source": [
    "hashtag_max = pd.DataFrame(graph.groupby('source_user_id')['hashtag_count'].max())\n",
    "hashtag_max['source_user_id'] = hashtag_max.index\n",
    "hashtag_max.reset_index(drop = True, inplace = True)\n",
    "hashtag_max.columns = ['hashtag_max_tweets', 'source_user_id']\n",
    "user = pd.merge(user, hashtag_max, on = 'source_user_id', how = 'left')\n",
    "\n",
    "user['hashtag_max_tweets'] = user.groupby('label')['hashtag_max_tweets'].transform(lambda x: x.fillna(x.mean())) \n",
    "\n",
    "user['hashtag_max_tweets'].isnull().sum()"
   ]
  },
  {
   "cell_type": "code",
   "execution_count": 186,
   "id": "a33cef27-f2bb-49e3-adf0-3902afe19273",
   "metadata": {
    "tags": []
   },
   "outputs": [],
   "source": [
    "tweet_counts = graph.groupby('source_user_id').size().reset_index(name = 'tweet_count')\n",
    "\n",
    "graph['tweet_length'] = graph['text'].str.len()\n",
    "\n",
    "average_length = graph.groupby('source_user_id')['tweet_length'].mean().reset_index(name = 'avg_tweet_length')\n",
    "\n",
    "def contains(arr):\n",
    "    if isinstance(arr, list):\n",
    "        return len(arr) > 0\n",
    "    return False\n",
    "\n",
    "url_tweets = graph[graph['urls_count'] > 0].groupby('source_user_id').size().reset_index(name = 'url_tweet_count')"
   ]
  },
  {
   "cell_type": "code",
   "execution_count": 187,
   "id": "ee93f47a-c39a-4e3f-aa6b-b1d37a938b82",
   "metadata": {
    "tags": []
   },
   "outputs": [],
   "source": [
    "user = pd.merge(user, tweet_counts, on = 'source_user_id', how = 'left')\n",
    "user = pd.merge(user, average_length, on = 'source_user_id', how = 'left')\n",
    "user = pd.merge(user, url_tweets, on = 'source_user_id', how = 'left')\n"
   ]
  },
  {
   "cell_type": "code",
   "execution_count": 188,
   "id": "154e977b-782a-4df8-8266-e678a25c8c42",
   "metadata": {
    "tags": []
   },
   "outputs": [],
   "source": [
    "user.rename(columns = {'tweet_count_y': 'tweet_count'}, inplace = True)\n",
    "user = user.drop(\"tweet_count\", axis = 1)\n",
    "user = user.rename({'tweet_count_x': 'tweet_count'}, axis = 1)"
   ]
  },
  {
   "cell_type": "code",
   "execution_count": 189,
   "id": "9b609e9e-b71a-4044-858b-ffb5d6deb254",
   "metadata": {
    "tags": []
   },
   "outputs": [],
   "source": [
    "cols = ['avg_tweet_length', 'url_count_tweets', 'url_tweet_count']\n",
    "\n",
    "for col in cols:\n",
    "    user[col] = user.groupby('label')[col].transform(lambda x: x.fillna(x.mean()))"
   ]
  },
  {
   "cell_type": "code",
   "execution_count": 190,
   "id": "d6519cb4-2abc-4fa1-98dd-512d81bc828f",
   "metadata": {
    "tags": []
   },
   "outputs": [
    {
     "data": {
      "text/plain": [
       "created_at                   0\n",
       "description                  0\n",
       "id_x                         0\n",
       "location                 37699\n",
       "name                         0\n",
       "pinned_tweet_id          95680\n",
       "profile_image_url            0\n",
       "protected                    0\n",
       "url                          0\n",
       "username                     0\n",
       "verified                     0\n",
       "withheld                189077\n",
       "url.urls                     0\n",
       "description.urls             0\n",
       "description.mentions         0\n",
       "description.hashtags         0\n",
       "description.cashtags         0\n",
       "followers_count              0\n",
       "following_count              0\n",
       "tweet_count                  0\n",
       "listed_count                 0\n",
       "source_user_id               0\n",
       "created_at_ts                0\n",
       "username_length              0\n",
       "name_length                  0\n",
       "description_length           0\n",
       "num_digits_username          0\n",
       "username_entropy             0\n",
       "description_entropy          0\n",
       "names_similarity             0\n",
       "names_ratio                  0\n",
       "reputation                   0\n",
       "account_age                  0\n",
       "id_y                         0\n",
       "label                        0\n",
       "retweet_ratio                0\n",
       "url_count_tweets             0\n",
       "url_ratio                    0\n",
       "url_max_tweets               0\n",
       "time_interval_sd_day         0\n",
       "mention_count_tweets         0\n",
       "mention_max_tweets           0\n",
       "hashtag_count_tweets         0\n",
       "hashtag_max_tweets           0\n",
       "avg_tweet_length_x           0\n",
       "url_tweet_count_x            0\n",
       "avg_tweet_length_y       25727\n",
       "url_tweet_count_y       140380\n",
       "avg_tweet_length             0\n",
       "url_tweet_count              0\n",
       "dtype: int64"
      ]
     },
     "execution_count": 190,
     "metadata": {},
     "output_type": "execute_result"
    }
   ],
   "source": [
    "user.isnull().sum()"
   ]
  },
  {
   "cell_type": "code",
   "execution_count": 192,
   "id": "bdb8288b-a2f3-4cdd-94c1-f2cacab77744",
   "metadata": {
    "tags": []
   },
   "outputs": [],
   "source": [
    "graph['text'] = graph['text'].astype(str)"
   ]
  },
  {
   "cell_type": "code",
   "execution_count": 193,
   "id": "494f24b4-d3b8-4477-bf27-ea3c8cc91aa9",
   "metadata": {
    "tags": []
   },
   "outputs": [
    {
     "name": "stderr",
     "output_type": "stream",
     "text": [
      "[nltk_data] Downloading package wordnet to /home/bae9wk/nltk_data...\n",
      "[nltk_data]   Package wordnet is already up-to-date!\n",
      "[nltk_data] Downloading package stopwords to /home/bae9wk/nltk_data...\n",
      "[nltk_data]   Package stopwords is already up-to-date!\n"
     ]
    }
   ],
   "source": [
    "nltk.download('wordnet')\n",
    "nltk.download('stopwords')\n",
    "\n",
    "tokenizer = TweetTokenizer()\n",
    "lemmatizer = WordNetLemmatizer()\n",
    "stop_words = set(stopwords.words('english'))\n",
    "\n",
    "def preprocess_tweets(tweet):\n",
    "    tweet_cleaned = re.sub(r'https?://[^ ]+', '', tweet)\n",
    "    tweet_cleaned = re.sub(r'@\\w+', '', tweet_cleaned)\n",
    "    tweet_cleaned = re.sub(r'RT', '', tweet_cleaned)\n",
    "    tweet_cleaned = tweet_cleaned.lower()\n",
    "    tweet_cleaned = re.sub(r'[^\\w\\s]', '', tweet_cleaned)\n",
    "\n",
    "    tokens = tokenizer.tokenize(tweet_cleaned)\n",
    "\n",
    "    tokens = [lemmatizer.lemmatize(token) for token in tokens if token not in stop_words]\n",
    "\n",
    "    return tokens\n",
    "\n",
    "graph['tokens'] = graph['text'].apply(preprocess_tweets)\n"
   ]
  },
  {
   "cell_type": "code",
   "execution_count": 194,
   "id": "28c749b4-c117-4dd5-96c2-f282457188ef",
   "metadata": {
    "tags": []
   },
   "outputs": [],
   "source": [
    "glove_model = api.load('glove-twitter-100')\n",
    "\n",
    "def get_embeddings(tweet_tokens, glove_model):\n",
    "    \n",
    "    embeddings = [glove_model[token] for token in tweet_tokens if token in glove_model]\n",
    "    \n",
    "    if not embeddings:\n",
    "        return None\n",
    "    \n",
    "    tweet_embedding = sum(embeddings) / len(embeddings)\n",
    "    return tweet_embedding\n"
   ]
  },
  {
   "cell_type": "code",
   "execution_count": 195,
   "id": "0f535b91-db7c-4fec-a34c-f7b9b9b26326",
   "metadata": {
    "tags": []
   },
   "outputs": [],
   "source": [
    "graph['tweet_embedding'] = graph['tokens'].apply(lambda x: get_embeddings(x, glove_model))"
   ]
  },
  {
   "cell_type": "code",
   "execution_count": 196,
   "id": "3e553d60-eb26-4685-a2ce-f0bb72f2f504",
   "metadata": {
    "tags": []
   },
   "outputs": [
    {
     "data": {
      "text/html": [
       "<div>\n",
       "<style scoped>\n",
       "    .dataframe tbody tr th:only-of-type {\n",
       "        vertical-align: middle;\n",
       "    }\n",
       "\n",
       "    .dataframe tbody tr th {\n",
       "        vertical-align: top;\n",
       "    }\n",
       "\n",
       "    .dataframe thead th {\n",
       "        text-align: right;\n",
       "    }\n",
       "</style>\n",
       "<table border=\"1\" class=\"dataframe\">\n",
       "  <thead>\n",
       "    <tr style=\"text-align: right;\">\n",
       "      <th></th>\n",
       "      <th>tweet_embedding</th>\n",
       "      <th>text</th>\n",
       "    </tr>\n",
       "  </thead>\n",
       "  <tbody>\n",
       "    <tr>\n",
       "      <th>0</th>\n",
       "      <td>None</td>\n",
       "      <td>@KalengaKamwendo About that 🤦‍♂️</td>\n",
       "    </tr>\n",
       "    <tr>\n",
       "      <th>1</th>\n",
       "      <td>[0.1034311, 0.2273521, 0.26947024, -0.19995345...</td>\n",
       "      <td>RT @afcstuff: Mikel Arteta on the late winner:...</td>\n",
       "    </tr>\n",
       "    <tr>\n",
       "      <th>2</th>\n",
       "      <td>[0.09070051, 0.24574916, 0.3635225, -0.2007760...</td>\n",
       "      <td>RT @premierleague: GOAL Southampton 1-0 Norwic...</td>\n",
       "    </tr>\n",
       "    <tr>\n",
       "      <th>3</th>\n",
       "      <td>[0.52692664, 0.20889334, -0.34069332, -0.13844...</td>\n",
       "      <td>@neurodruid Read the article. It's included in...</td>\n",
       "    </tr>\n",
       "    <tr>\n",
       "      <th>4</th>\n",
       "      <td>None</td>\n",
       "      <td>https://t.co/A7CkZRpvdr</td>\n",
       "    </tr>\n",
       "  </tbody>\n",
       "</table>\n",
       "</div>"
      ],
      "text/plain": [
       "                                     tweet_embedding  \\\n",
       "0                                               None   \n",
       "1  [0.1034311, 0.2273521, 0.26947024, -0.19995345...   \n",
       "2  [0.09070051, 0.24574916, 0.3635225, -0.2007760...   \n",
       "3  [0.52692664, 0.20889334, -0.34069332, -0.13844...   \n",
       "4                                               None   \n",
       "\n",
       "                                                text  \n",
       "0                   @KalengaKamwendo About that 🤦‍♂️  \n",
       "1  RT @afcstuff: Mikel Arteta on the late winner:...  \n",
       "2  RT @premierleague: GOAL Southampton 1-0 Norwic...  \n",
       "3  @neurodruid Read the article. It's included in...  \n",
       "4                            https://t.co/A7CkZRpvdr  "
      ]
     },
     "execution_count": 196,
     "metadata": {},
     "output_type": "execute_result"
    }
   ],
   "source": [
    "graph[['tweet_embedding', 'text']][:5]"
   ]
  },
  {
   "cell_type": "code",
   "execution_count": 197,
   "id": "d2e8ff8d-9698-48d9-944b-713ea00c87f2",
   "metadata": {
    "tags": []
   },
   "outputs": [],
   "source": [
    "cols_to_keep = [\"source_user_id\", \"target_user_id\", \"relationship\", \"tweet_embedding\"]\n",
    "graph_filtered = graph[cols_to_keep]"
   ]
  },
  {
   "cell_type": "code",
   "execution_count": 198,
   "id": "5f34d2f5-28e3-4c9c-8fa3-5833cb59505f",
   "metadata": {
    "tags": []
   },
   "outputs": [],
   "source": [
    "graph_filtered = graph_filtered.drop(graph_filtered[graph_filtered[\"target_user_id\"].isnull()].index, axis = 0)"
   ]
  },
  {
   "cell_type": "code",
   "execution_count": 199,
   "id": "0fb4f9e4-02aa-49e5-9397-2714b5cc90e2",
   "metadata": {
    "tags": []
   },
   "outputs": [],
   "source": [
    "user = user.drop(['id_x', 'id_y'], axis = 1)"
   ]
  },
  {
   "cell_type": "code",
   "execution_count": 200,
   "id": "04b62e2b-c469-4d05-a0a8-5f6f685e26cf",
   "metadata": {
    "tags": []
   },
   "outputs": [],
   "source": [
    "cols = ['reputation', 'retweet_ratio', 'url_count_tweets', 'url_ratio', 'url_max_tweets', 'time_interval_sd_day', 'mention_count_tweets',\n",
    "       'hashtag_count_tweets', 'hashtag_max_tweets', 'account_age']\n",
    "\n",
    "for col in cols:\n",
    "    user[col] = (user[col] - user[col].min()) / (user[col].max() - user[col].min())\n"
   ]
  },
  {
   "cell_type": "code",
   "execution_count": 201,
   "id": "11f8a054-3fdb-4cd4-b373-87433e864e5c",
   "metadata": {
    "tags": []
   },
   "outputs": [],
   "source": [
    "user = user.drop(['description', 'created_at', 'location', 'name', 'profile_image_url', 'url', 'username'], axis = 1)\n"
   ]
  },
  {
   "cell_type": "code",
   "execution_count": 202,
   "id": "ef287ae7-fd1b-4c5d-b250-721c96375255",
   "metadata": {
    "tags": []
   },
   "outputs": [
    {
     "name": "stdout",
     "output_type": "stream",
     "text": [
      "<class 'pandas.core.frame.DataFrame'>\n",
      "RangeIndex: 189091 entries, 0 to 189090\n",
      "Data columns (total 41 columns):\n",
      " #   Column                Non-Null Count   Dtype              \n",
      "---  ------                --------------   -----              \n",
      " 0   pinned_tweet_id       93411 non-null   float64            \n",
      " 1   protected             189091 non-null  bool               \n",
      " 2   verified              189091 non-null  bool               \n",
      " 3   withheld              14 non-null      object             \n",
      " 4   url.urls              189091 non-null  int64              \n",
      " 5   description.urls      189091 non-null  int64              \n",
      " 6   description.mentions  189091 non-null  int64              \n",
      " 7   description.hashtags  189091 non-null  int64              \n",
      " 8   description.cashtags  189091 non-null  int64              \n",
      " 9   followers_count       189091 non-null  int64              \n",
      " 10  following_count       189091 non-null  int64              \n",
      " 11  tweet_count           189091 non-null  int64              \n",
      " 12  listed_count          189091 non-null  int64              \n",
      " 13  source_user_id        189091 non-null  int64              \n",
      " 14  created_at_ts         189091 non-null  datetime64[ns, UTC]\n",
      " 15  username_length       189091 non-null  int64              \n",
      " 16  name_length           189091 non-null  int64              \n",
      " 17  description_length    189091 non-null  int64              \n",
      " 18  num_digits_username   189091 non-null  int64              \n",
      " 19  username_entropy      189091 non-null  float64            \n",
      " 20  description_entropy   189091 non-null  float64            \n",
      " 21  names_similarity      189091 non-null  float64            \n",
      " 22  names_ratio           189091 non-null  float64            \n",
      " 23  reputation            189091 non-null  float64            \n",
      " 24  account_age           189047 non-null  float64            \n",
      " 25  label                 189091 non-null  object             \n",
      " 26  retweet_ratio         189091 non-null  float64            \n",
      " 27  url_count_tweets      189091 non-null  float64            \n",
      " 28  url_ratio             163332 non-null  float64            \n",
      " 29  url_max_tweets        189091 non-null  float64            \n",
      " 30  time_interval_sd_day  189091 non-null  float64            \n",
      " 31  mention_count_tweets  189091 non-null  float64            \n",
      " 32  mention_max_tweets    189091 non-null  float64            \n",
      " 33  hashtag_count_tweets  189091 non-null  float64            \n",
      " 34  hashtag_max_tweets    189091 non-null  float64            \n",
      " 35  avg_tweet_length_x    189091 non-null  float64            \n",
      " 36  url_tweet_count_x     189091 non-null  float64            \n",
      " 37  avg_tweet_length_y    163364 non-null  float64            \n",
      " 38  url_tweet_count_y     48711 non-null   float64            \n",
      " 39  avg_tweet_length      189091 non-null  float64            \n",
      " 40  url_tweet_count       189091 non-null  float64            \n",
      "dtypes: bool(2), datetime64[ns, UTC](1), float64(22), int64(14), object(2)\n",
      "memory usage: 56.6+ MB\n"
     ]
    }
   ],
   "source": [
    "user.info()"
   ]
  },
  {
   "cell_type": "code",
   "execution_count": 204,
   "id": "a8af2674-aa60-49a2-87a9-c0408d64e68c",
   "metadata": {
    "tags": []
   },
   "outputs": [],
   "source": [
    "user = user.drop(['pinned_tweet_id', 'withheld', 'protected', 'verified'], axis = 1)"
   ]
  },
  {
   "cell_type": "code",
   "execution_count": 205,
   "id": "016ba37d-28c1-4da2-b84a-678a886e00f8",
   "metadata": {
    "tags": []
   },
   "outputs": [
    {
     "name": "stdout",
     "output_type": "stream",
     "text": [
      "<class 'pandas.core.frame.DataFrame'>\n",
      "RangeIndex: 189091 entries, 0 to 189090\n",
      "Data columns (total 37 columns):\n",
      " #   Column                Non-Null Count   Dtype              \n",
      "---  ------                --------------   -----              \n",
      " 0   url.urls              189091 non-null  int64              \n",
      " 1   description.urls      189091 non-null  int64              \n",
      " 2   description.mentions  189091 non-null  int64              \n",
      " 3   description.hashtags  189091 non-null  int64              \n",
      " 4   description.cashtags  189091 non-null  int64              \n",
      " 5   followers_count       189091 non-null  int64              \n",
      " 6   following_count       189091 non-null  int64              \n",
      " 7   tweet_count           189091 non-null  int64              \n",
      " 8   listed_count          189091 non-null  int64              \n",
      " 9   source_user_id        189091 non-null  int64              \n",
      " 10  created_at_ts         189091 non-null  datetime64[ns, UTC]\n",
      " 11  username_length       189091 non-null  int64              \n",
      " 12  name_length           189091 non-null  int64              \n",
      " 13  description_length    189091 non-null  int64              \n",
      " 14  num_digits_username   189091 non-null  int64              \n",
      " 15  username_entropy      189091 non-null  float64            \n",
      " 16  description_entropy   189091 non-null  float64            \n",
      " 17  names_similarity      189091 non-null  float64            \n",
      " 18  names_ratio           189091 non-null  float64            \n",
      " 19  reputation            189091 non-null  float64            \n",
      " 20  account_age           189047 non-null  float64            \n",
      " 21  label                 189091 non-null  object             \n",
      " 22  retweet_ratio         189091 non-null  float64            \n",
      " 23  url_count_tweets      189091 non-null  float64            \n",
      " 24  url_ratio             163332 non-null  float64            \n",
      " 25  url_max_tweets        189091 non-null  float64            \n",
      " 26  time_interval_sd_day  189091 non-null  float64            \n",
      " 27  mention_count_tweets  189091 non-null  float64            \n",
      " 28  mention_max_tweets    189091 non-null  float64            \n",
      " 29  hashtag_count_tweets  189091 non-null  float64            \n",
      " 30  hashtag_max_tweets    189091 non-null  float64            \n",
      " 31  avg_tweet_length_x    189091 non-null  float64            \n",
      " 32  url_tweet_count_x     189091 non-null  float64            \n",
      " 33  avg_tweet_length_y    163364 non-null  float64            \n",
      " 34  url_tweet_count_y     48711 non-null   float64            \n",
      " 35  avg_tweet_length      189091 non-null  float64            \n",
      " 36  url_tweet_count       189091 non-null  float64            \n",
      "dtypes: datetime64[ns, UTC](1), float64(21), int64(14), object(1)\n",
      "memory usage: 53.4+ MB\n"
     ]
    }
   ],
   "source": [
    "user.info()"
   ]
  },
  {
   "cell_type": "code",
   "execution_count": 206,
   "id": "3e4cc71e-b7de-496a-8108-f4504a53f34c",
   "metadata": {
    "tags": []
   },
   "outputs": [
    {
     "name": "stdout",
     "output_type": "stream",
     "text": [
      "<class 'pandas.core.frame.DataFrame'>\n",
      "Index: 1185051 entries, 1 to 1836771\n",
      "Data columns (total 4 columns):\n",
      " #   Column           Non-Null Count    Dtype \n",
      "---  ------           --------------    ----- \n",
      " 0   source_user_id   1185051 non-null  int64 \n",
      " 1   target_user_id   1185051 non-null  object\n",
      " 2   relationship     1185051 non-null  object\n",
      " 3   tweet_embedding  1088761 non-null  object\n",
      "dtypes: int64(1), object(3)\n",
      "memory usage: 45.2+ MB\n"
     ]
    }
   ],
   "source": [
    "graph_filtered.info()"
   ]
  },
  {
   "cell_type": "code",
   "execution_count": null,
   "id": "6b09f6ee-aa21-4851-ad23-9a7cba842838",
   "metadata": {},
   "outputs": [],
   "source": [
    "graph = graph_filtered"
   ]
  },
  {
   "cell_type": "code",
   "execution_count": 211,
   "id": "8e552216-6f1c-44d5-8ec9-bcb30f639025",
   "metadata": {
    "tags": []
   },
   "outputs": [
    {
     "name": "stdout",
     "output_type": "stream",
     "text": [
      "1582920\t/scratch/bae9wk/datasets/TwiBot22/graph_final.csv\n"
     ]
    }
   ],
   "source": [
    "problematic_rows = []\n",
    "successful_matches = []\n",
    "\n",
    "for index, row in tqdm(graph.iterrows(), total=len(graph)):\n",
    "    try:\n",
    "        # Convert string representation of list to actual list of integers\n",
    "        target_id_str = row['target_user_id']\n",
    "        \n",
    "        if isinstance(target_id_str, str):\n",
    "            # Using ast.literal_eval to safely convert string representation of list to actual list\n",
    "            target_ids = ast.literal_eval(target_id_str)\n",
    "            # Convert to list if it's not already (handles single integer case)\n",
    "            if not isinstance(target_ids, list):\n",
    "                target_ids = [target_ids]\n",
    "        else:\n",
    "            target_ids = target_id_str if isinstance(target_id_str, list) else [target_id_str]\n",
    "        \n",
    "        # Convert all elements to integers\n",
    "        target_ids = [int(x) for x in target_ids if pd.notna(x)]\n",
    "        \n",
    "        # Check if any of the target_ids exist in user['source_user_id']\n",
    "        matching_users = user[user['source_user_id'].isin(target_ids)]\n",
    "        \n",
    "        if not matching_users.empty:\n",
    "            successful_matches.append(index)\n",
    "        else:\n",
    "            problematic_rows.append(index)\n",
    "            \n",
    "    except Exception as e:\n",
    "        print(f\"Error processing row {index}: {str(e)}\")\n",
    "        problematic_rows.append(index)\n",
    "\n",
    "print(f\"Successfully matched rows: {len(successful_matches)}\")\n",
    "print(f\"Problematic rows: {len(problematic_rows)}\")\n",
    "\n",
    "# Let's verify with a test case\n",
    "test_row = graph.iloc[0]\n",
    "print(f\"\\nTest case verification:\")\n",
    "print(f\"Original value: {test_row['target_user_id']}\")\n",
    "test_ids = ast.literal_eval(test_row['target_user_id']) if isinstance(test_row['target_user_id'], str) else test_row['target_user_id']\n",
    "print(f\"Converted value: {test_ids}\")\n",
    "print(f\"Type of converted value: {type(test_ids)}\")\n",
    "matches = user[user['source_user_id'].isin(test_ids)]\n",
    "print(f\"Matches found: {len(matches)}\")"
   ]
  },
  {
   "cell_type": "code",
   "execution_count": null,
   "id": "26c6677c-c828-4620-ae02-2491db2bc1f9",
   "metadata": {},
   "outputs": [],
   "source": [
    "graph = graph.drop(problematic_rows)"
   ]
  },
  {
   "cell_type": "code",
   "execution_count": null,
   "id": "99a4591c-d4f8-4046-abb3-db7b81751ad5",
   "metadata": {},
   "outputs": [],
   "source": [
    "graph_filtered.to_csv('{dirpath}/graph_cleaned.csv', index=False)\n",
    "user.to_csv('{dirpath}/user_final.csv', index=False)"
   ]
  }
 ],
 "metadata": {
  "kernelspec": {
   "display_name": "Python 3 (ipykernel)",
   "language": "python",
   "name": "python3"
  },
  "language_info": {
   "codemirror_mode": {
    "name": "ipython",
    "version": 3
   },
   "file_extension": ".py",
   "mimetype": "text/x-python",
   "name": "python",
   "nbconvert_exporter": "python",
   "pygments_lexer": "ipython3",
   "version": "3.11.4"
  }
 },
 "nbformat": 4,
 "nbformat_minor": 5
}
