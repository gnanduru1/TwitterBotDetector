{
 "cells": [
  {
   "cell_type": "markdown",
   "id": "d3201588-c55b-4e64-98db-4aedaf95ee87",
   "metadata": {},
   "source": [
    "## Preprocessing script\n",
    "\n",
    "This notebook chooses a (seeded) random subset of humans and nodes in the TwiBot user list and filters tweets to those that are written by or mention accounts in the subset."
   ]
  },
  {
   "cell_type": "code",
   "execution_count": 1,
   "id": "0f0422af-26c1-4180-9069-ce1ca10760c1",
   "metadata": {
    "tags": []
   },
   "outputs": [],
   "source": [
    "import pandas, numpy\n",
    "import getpass\n",
    "\n",
    "# Change dirpath to the location of the TwiBot22 dataset on your device\n",
    "dirpath = '/scratch/{user}/datasets/TwiBot22/'\n",
    "\n",
    "user = getpass.getuser()\n",
    "labels = pandas.read_csv(f'{dirpath}/label.csv')"
   ]
  },
  {
   "cell_type": "code",
   "execution_count": 3,
   "id": "8be687fd-334b-4e07-97a7-cb74c2c130c0",
   "metadata": {
    "tags": []
   },
   "outputs": [
    {
     "data": {
      "text/plain": [
       "(860057, 139943, 1000000)"
      ]
     },
     "execution_count": 3,
     "metadata": {},
     "output_type": "execute_result"
    }
   ],
   "source": [
    "n_humans = sum(labels.label == 'human')\n",
    "n_bots = len(labels) - n_humans\n",
    "n_humans, n_bots, len(labels)"
   ]
  },
  {
   "cell_type": "code",
   "execution_count": 4,
   "id": "f45bbfae-02f2-4446-99bd-ff71aea6aec6",
   "metadata": {
    "tags": []
   },
   "outputs": [],
   "source": [
    "# overwrite\n",
    "n_humans = 10000\n",
    "n_bots = 10000"
   ]
  },
  {
   "cell_type": "code",
   "execution_count": 5,
   "id": "8c01f2b3-d7b2-4d66-86e3-f705cc82c789",
   "metadata": {
    "tags": []
   },
   "outputs": [
    {
     "data": {
      "text/plain": [
       "20000"
      ]
     },
     "execution_count": 5,
     "metadata": {},
     "output_type": "execute_result"
    }
   ],
   "source": [
    "seed = 42\n",
    "human_nodes = labels[labels['label'] == 'human'].sample(n=n_humans, random_state=seed)\n",
    "bot_nodes = labels[labels['label'] == 'bot'].sample(n=n_bots, random_state=seed)\n",
    "\n",
    "new_labels = pandas.concat([human_nodes, bot_nodes])\n",
    "len(new_labels)"
   ]
  },
  {
   "cell_type": "code",
   "execution_count": 6,
   "id": "68944699-06ae-4429-a5d7-dcd65148bfdb",
   "metadata": {
    "tags": []
   },
   "outputs": [],
   "source": [
    "new_labels['id'] = new_labels['id'].str[1:].astype(int)"
   ]
  },
  {
   "cell_type": "code",
   "execution_count": 7,
   "id": "91d2eb00-4e68-4f9d-b2f5-67ed583f525a",
   "metadata": {
    "tags": []
   },
   "outputs": [
    {
     "data": {
      "text/html": [
       "<div>\n",
       "<style scoped>\n",
       "    .dataframe tbody tr th:only-of-type {\n",
       "        vertical-align: middle;\n",
       "    }\n",
       "\n",
       "    .dataframe tbody tr th {\n",
       "        vertical-align: top;\n",
       "    }\n",
       "\n",
       "    .dataframe thead th {\n",
       "        text-align: right;\n",
       "    }\n",
       "</style>\n",
       "<table border=\"1\" class=\"dataframe\">\n",
       "  <thead>\n",
       "    <tr style=\"text-align: right;\">\n",
       "      <th></th>\n",
       "      <th>id</th>\n",
       "      <th>label</th>\n",
       "    </tr>\n",
       "  </thead>\n",
       "  <tbody>\n",
       "    <tr>\n",
       "      <th>978570</th>\n",
       "      <td>17140361</td>\n",
       "      <td>human</td>\n",
       "    </tr>\n",
       "    <tr>\n",
       "      <th>211001</th>\n",
       "      <td>1165940942106312704</td>\n",
       "      <td>human</td>\n",
       "    </tr>\n",
       "    <tr>\n",
       "      <th>826938</th>\n",
       "      <td>133482732</td>\n",
       "      <td>human</td>\n",
       "    </tr>\n",
       "    <tr>\n",
       "      <th>433434</th>\n",
       "      <td>284933167</td>\n",
       "      <td>human</td>\n",
       "    </tr>\n",
       "    <tr>\n",
       "      <th>300833</th>\n",
       "      <td>757907959989080064</td>\n",
       "      <td>human</td>\n",
       "    </tr>\n",
       "  </tbody>\n",
       "</table>\n",
       "</div>"
      ],
      "text/plain": [
       "                         id  label\n",
       "978570             17140361  human\n",
       "211001  1165940942106312704  human\n",
       "826938            133482732  human\n",
       "433434            284933167  human\n",
       "300833   757907959989080064  human"
      ]
     },
     "execution_count": 7,
     "metadata": {},
     "output_type": "execute_result"
    }
   ],
   "source": [
    "new_labels[:5]"
   ]
  },
  {
   "cell_type": "code",
   "execution_count": 8,
   "id": "733ac1c1-ef55-4ac5-bb65-7e0b89ce640e",
   "metadata": {
    "tags": []
   },
   "outputs": [],
   "source": [
    "# old dataframe is called tweet_0: \n",
    "# each row is a tweet:\n",
    "# columns: author_id (int), entities (dict), public_metrics (dict)\n",
    "# structure of entities: {'hashtags': <list of hashtags>, 'symbols': <list of symbols>, 'user_mentions': <list of dicts>}\n",
    "#      structure of each dict in user_mentions: {'id': <int>, 'name': <str>}\n",
    "# structure of public_metrics: {'retweet_count': <int>, 'reply_count': <int>, 'like_count': <int>, 'quote_count': <int>}\n",
    "\n",
    "# I have a data frame called new_labels where every row is a user:\n",
    "# columns: id (int), label (str)\n",
    "\n",
    "# new data frame called new_tweets: \n",
    "# each row is a tweet:\n",
    "# this data frame should only include tweets whose author_id is in new_labels or whose author_id is in mentioned_ids:\n",
    "# columns: author_id, mentioned_ids, mentions count, hashtag count, symbols count, urls count, in reply to user id, retweet count, reply count, like count, quote count"
   ]
  },
  {
   "cell_type": "code",
   "execution_count": 9,
   "id": "0fec8afe-e3dd-481b-81e0-1a6eed4377b4",
   "metadata": {
    "tags": []
   },
   "outputs": [],
   "source": [
    "def is_valid_tweet(row):\n",
    "    # Extract mentioned_ids from the entities field\n",
    "    \n",
    "    mentioned_ids = [\n",
    "        mention['id'] for mention in row['entities'].get('user_mentions', [])\n",
    "    ] if row['entities'] else []\n",
    "    \n",
    "    # Check if author_id or any mentioned_id is in valid_authors\n",
    "    return row['author_id'] in valid_authors or bool(set(mentioned_ids) & valid_authors)"
   ]
  },
  {
   "cell_type": "code",
   "execution_count": 10,
   "id": "4c58e28a-f6f8-4f06-bbf4-c464c1974e4e",
   "metadata": {
    "tags": []
   },
   "outputs": [],
   "source": [
    "import pandas as pd\n",
    "\n",
    "# Step 1: Extract author_ids from new_labels\n",
    "valid_authors = set(new_labels['id'])"
   ]
  },
  {
   "cell_type": "code",
   "execution_count": 12,
   "id": "58e22ced-66e8-4179-8487-e6fa4dba29a3",
   "metadata": {
    "tags": []
   },
   "outputs": [],
   "source": [
    "# Step 2: Process tweets to extract required data\n",
    "def process_tweet(row):\n",
    "    entities = row['entities']\n",
    "    if not entities: entities = {}\n",
    "    public_metrics = row['public_metrics']\n",
    "    \n",
    "    # Extract counts\n",
    "    mentioned_ids = [mention['id'] for mention in entities.get('user_mentions', [])]\n",
    "    mention_count = len(mentioned_ids)\n",
    "    hashtag_count = len(entities.get('hashtags', []))\n",
    "    symbols_count = len(entities.get('symbols', []))\n",
    "    urls_count = len(entities.get('urls', [])) if 'urls' in entities else 0\n",
    "    \n",
    "    # Extract public metrics\n",
    "    #print(\n",
    "    retweet_count = public_metrics['retweet_count']\n",
    "    reply_count = public_metrics['reply_count']\n",
    "    like_count = public_metrics['like_count']\n",
    "    quote_count = public_metrics['quote_count']\n",
    "    \n",
    "    text = row['text']\n",
    "    in_reply_to_user_id = row['in_reply_to_user_id']\n",
    "    \n",
    "    return pd.Series({\n",
    "        'author_id': row['author_id'],\n",
    "        'mentioned_ids': mentioned_ids,\n",
    "        'mention_count': mention_count,\n",
    "        'hashtag_count': hashtag_count,\n",
    "        'symbols_count': symbols_count,\n",
    "        'urls_count': urls_count,\n",
    "        'retweet_count': retweet_count,\n",
    "        'reply_count': reply_count,\n",
    "        'like_count': like_count,\n",
    "        'quote_count': quote_count,\n",
    "        'text': text,\n",
    "        'in_reply_to_user_id': in_reply_to_user_id,\n",
    "        'created_at': row['created_at'],\n",
    "        'conversation_id': row['conversation_id'],\n",
    "        'id': row['id'],\n",
    "    })\n",
    "\n"
   ]
  },
  {
   "cell_type": "markdown",
   "id": "38ca011f-1970-4bf8-a93a-f1bae79368ef",
   "metadata": {},
   "source": [
    "## The following four cells can be repeated for all tweet files."
   ]
  },
  {
   "cell_type": "code",
   "execution_count": 13,
   "id": "08457bd8-3fad-4f79-8371-39fc614f3414",
   "metadata": {
    "tags": []
   },
   "outputs": [],
   "source": [
    "# Loading in giant tweet file\n",
    "tweet_file = 1\n",
    "tweets = pandas.read_json(f'/scratch/{user}/datasets/TwiBot22/tweet_{tweet_file}.json')"
   ]
  },
  {
   "cell_type": "code",
   "execution_count": 14,
   "id": "60427784-5b4e-43b1-83f9-eb6dde9029bb",
   "metadata": {
    "tags": []
   },
   "outputs": [],
   "source": [
    "filtered_tweet = tweets[tweets.apply(is_valid_tweet, axis=1)]"
   ]
  },
  {
   "cell_type": "code",
   "execution_count": 15,
   "id": "d89c1498-a37e-46a2-ac5b-223e63ddcdab",
   "metadata": {
    "tags": []
   },
   "outputs": [],
   "source": [
    "processed_tweet = filtered_tweet.apply(process_tweet, axis=1)"
   ]
  },
  {
   "cell_type": "code",
   "execution_count": 16,
   "id": "6ac725fe-4194-458a-9c14-ab99fba769da",
   "metadata": {
    "tags": []
   },
   "outputs": [],
   "source": [
    "processed_tweet.to_csv(f'{dirpath}/processed_tweet{tweet_file}.csv')"
   ]
  }
 ],
 "metadata": {
  "kernelspec": {
   "display_name": "Python 3 (ipykernel)",
   "language": "python",
   "name": "python3"
  },
  "language_info": {
   "codemirror_mode": {
    "name": "ipython",
    "version": 3
   },
   "file_extension": ".py",
   "mimetype": "text/x-python",
   "name": "python",
   "nbconvert_exporter": "python",
   "pygments_lexer": "ipython3",
   "version": "3.11.4"
  }
 },
 "nbformat": 4,
 "nbformat_minor": 5
}
